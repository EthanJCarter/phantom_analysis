{
 "cells": [
  {
   "cell_type": "code",
   "execution_count": 54,
   "metadata": {},
   "outputs": [],
   "source": [
    "import pandas as pd\n",
    "import numpy as np\n",
    "import matplotlib.pyplot as plt"
   ]
  },
  {
   "cell_type": "code",
   "execution_count": 55,
   "metadata": {},
   "outputs": [],
   "source": [
    "def scientific_to_decimal(value):\n",
    "    return float(value)"
   ]
  },
  {
   "cell_type": "code",
   "execution_count": 56,
   "metadata": {},
   "outputs": [],
   "source": [
    "# Define a function to convert 'rho' column values to scientific notation\n",
    "def conv_sci(value):\n",
    "    return '{:.2e}'.format(float(value))"
   ]
  },
  {
   "cell_type": "code",
   "execution_count": 57,
   "metadata": {},
   "outputs": [],
   "source": [
    "def read_clumpdata(clumpID):\n",
    "    filename = 'F{}.dat'.format(clumpID)\n",
    "    df = pd.read_csv(filename,delim_whitespace=True,skiprows=3,skipinitialspace=True, converters={'rho': conv_sci,'temp': conv_sci})\n",
    "    return df.copy()"
   ]
  },
  {
   "cell_type": "code",
   "execution_count": 58,
   "metadata": {},
   "outputs": [
    {
     "name": "stdout",
     "output_type": "stream",
     "text": [
      "     pid      x       y     z     h     vx     vy     vz     r      mass  \\\n",
      "0     10 -68.28 -174.36 -0.11 -0.00  11.95  -3.99  -2.23  0.00  0.000006   \n",
      "1    160 -68.26 -174.37 -0.11 -0.01  -4.06  33.14  13.02  0.02  0.000006   \n",
      "2    435 -68.27 -174.36 -0.11 -0.00  -4.16 -23.93  13.04  0.00  0.000006   \n",
      "3    564 -68.28 -174.36 -0.11 -0.00   6.26  -7.84  -0.41  0.00  0.000006   \n",
      "4    867 -68.28 -174.36 -0.11 -0.00  15.46  15.50   5.62  0.00  0.000006   \n",
      "..   ...    ...     ...   ...   ...    ...    ...    ...   ...       ...   \n",
      "995    0   0.00    0.00  0.00  0.00   0.00   0.00   0.00  0.00  0.000000   \n",
      "996    0   0.00    0.00  0.00  0.00   0.00   0.00   0.00  0.00  0.000000   \n",
      "997    0   0.00    0.00  0.00  0.00   0.00   0.00   0.00  0.00  0.000000   \n",
      "998    0   0.00    0.00  0.00  0.00   0.00   0.00   0.00  0.00  0.000000   \n",
      "999    0   0.00    0.00  0.00  0.00   0.00   0.00   0.00  0.00  0.000000   \n",
      "\n",
      "          rho      temp  \n",
      "0    2.41e-01  3.84e+04  \n",
      "1    3.54e-05  5.66e+03  \n",
      "2    1.55e-04  1.11e+04  \n",
      "3    2.82e-01  3.86e+04  \n",
      "4    3.53e-04  1.41e+04  \n",
      "..        ...       ...  \n",
      "995  0.00e+00  0.00e+00  \n",
      "996  0.00e+00  0.00e+00  \n",
      "997  0.00e+00  0.00e+00  \n",
      "998  0.00e+00  0.00e+00  \n",
      "999  0.00e+00  0.00e+00  \n",
      "\n",
      "[1000 rows x 12 columns]\n"
     ]
    }
   ],
   "source": [
    "clump1 = read_clumpdata(1)\n",
    "print(clump1)"
   ]
  }
 ],
 "metadata": {
  "kernelspec": {
   "display_name": "env310",
   "language": "python",
   "name": "python3"
  },
  "language_info": {
   "codemirror_mode": {
    "name": "ipython",
    "version": 3
   },
   "file_extension": ".py",
   "mimetype": "text/x-python",
   "name": "python",
   "nbconvert_exporter": "python",
   "pygments_lexer": "ipython3",
   "version": "3.10.12"
  }
 },
 "nbformat": 4,
 "nbformat_minor": 2
}
