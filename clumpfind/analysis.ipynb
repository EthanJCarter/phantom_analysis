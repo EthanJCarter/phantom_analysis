{
 "cells": [
  {
   "cell_type": "code",
   "execution_count": 41,
   "metadata": {},
   "outputs": [],
   "source": [
    "import pandas as pd\n",
    "import numpy as np\n",
    "import matplotlib.pyplot as plt"
   ]
  },
  {
   "cell_type": "code",
   "execution_count": 42,
   "metadata": {},
   "outputs": [],
   "source": [
    "def scientific_to_decimal(value):\n",
    "    return float(value)"
   ]
  },
  {
   "cell_type": "code",
   "execution_count": 43,
   "metadata": {},
   "outputs": [],
   "source": [
    "# Define a function to convert 'rho' column values to scientific notation\n",
    "def conv_sci(value):\n",
    "    return '{:.2e}'.format(float(value))"
   ]
  },
  {
   "cell_type": "code",
   "execution_count": 44,
   "metadata": {},
   "outputs": [],
   "source": [
    "def read_clumpdata(clumpID):\n",
    "    filename = 'F{}.dat'.format(clumpID)\n",
    "    df = pd.read_csv(filename,delim_whitespace=True,skiprows=3,skipinitialspace=True, converters={'mass': conv_sci,'rho': conv_sci,'temp': conv_sci})\n",
    "    df = df.where(df['pid'] != 0)\n",
    "    df = df.dropna()\n",
    "    return df.copy()"
   ]
  },
  {
   "cell_type": "code",
   "execution_count": 45,
   "metadata": {},
   "outputs": [
    {
     "name": "stdout",
     "output_type": "stream",
     "text": [
      "         pid      x       y     z     h     vx     vy     vz     r      mass  \\\n",
      "0       10.0 -68.28 -174.36 -0.11 -0.00  11.95  -3.99  -2.23  0.00  6.00e-06   \n",
      "1      160.0 -68.26 -174.37 -0.11 -0.01  -4.06  33.14  13.02  0.02  6.00e-06   \n",
      "2      435.0 -68.27 -174.36 -0.11 -0.00  -4.16 -23.93  13.04  0.00  6.00e-06   \n",
      "3      564.0 -68.28 -174.36 -0.11 -0.00   6.26  -7.84  -0.41  0.00  6.00e-06   \n",
      "4      867.0 -68.28 -174.36 -0.11 -0.00  15.46  15.50   5.62  0.00  6.00e-06   \n",
      "..       ...    ...     ...   ...   ...    ...    ...    ...   ...       ...   \n",
      "468  99500.0 -68.26 -174.37 -0.11 -0.01 -26.11  33.86  -8.52  0.02  6.00e-06   \n",
      "469  99539.0 -68.23 -174.38 -0.11 -0.01  -7.30  42.53 -21.67  0.05  6.00e-06   \n",
      "470  99570.0 -68.28 -174.36 -0.11 -0.00  -3.44  -4.50   2.69  0.00  6.00e-06   \n",
      "471  99577.0 -68.27 -174.36 -0.11 -0.00  -4.26  24.85  -1.03  0.01  6.00e-06   \n",
      "472  99862.0 -68.25 -174.37 -0.11 -0.01   4.93 -32.53 -32.76  0.03  6.00e-06   \n",
      "\n",
      "          rho      temp  \n",
      "0    2.41e-01  3.84e+04  \n",
      "1    3.54e-05  5.66e+03  \n",
      "2    1.55e-04  1.11e+04  \n",
      "3    2.82e-01  3.86e+04  \n",
      "4    3.53e-04  1.41e+04  \n",
      "..        ...       ...  \n",
      "468  1.63e-05  4.65e+03  \n",
      "469  2.69e-06  3.58e+03  \n",
      "470  1.70e+00  6.13e+04  \n",
      "471  1.49e-04  9.89e+03  \n",
      "472  9.94e-06  4.37e+03  \n",
      "\n",
      "[473 rows x 12 columns]\n"
     ]
    }
   ],
   "source": [
    "clump1 = read_clumpdata(1)\n",
    "print(clump1)"
   ]
  },
  {
   "cell_type": "code",
   "execution_count": null,
   "metadata": {},
   "outputs": [],
   "source": []
  }
 ],
 "metadata": {
  "kernelspec": {
   "display_name": "env310",
   "language": "python",
   "name": "python3"
  },
  "language_info": {
   "codemirror_mode": {
    "name": "ipython",
    "version": 3
   },
   "file_extension": ".py",
   "mimetype": "text/x-python",
   "name": "python",
   "nbconvert_exporter": "python",
   "pygments_lexer": "ipython3",
   "version": "3.10.12"
  }
 },
 "nbformat": 4,
 "nbformat_minor": 2
}
