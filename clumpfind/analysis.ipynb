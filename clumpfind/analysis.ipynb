{
 "cells": [
  {
   "cell_type": "code",
   "execution_count": 3,
   "metadata": {},
   "outputs": [],
   "source": [
    "import pandas as pd\n",
    "import numpy as np\n",
    "import matplotlib.pyplot as plt"
   ]
  },
  {
   "cell_type": "code",
   "execution_count": 4,
   "metadata": {},
   "outputs": [],
   "source": [
    "def read_clumpdata(clumpID):\n",
    "    filename = 'F{}.dat'.format(clumpID)\n",
    "    df = pd.read_csv(filename,sep='S+',skiprows=3)\n",
    "    return df.copy()"
   ]
  },
  {
   "cell_type": "code",
   "execution_count": 5,
   "metadata": {},
   "outputs": [
    {
     "name": "stdout",
     "output_type": "stream",
     "text": [
      "    # [01         pid]   [02           x]   [03           y]   [04           z]   [05           h]   [06          vx]   [07          vy]   [08          vz]   [09           r]   [10        mass]   [11         rho]   [12        temp]\n",
      "0    10    -68.28   -174.36     -0.11     -0.00    ...                                                                                                                                                                                 \n",
      "1    160    -68.26   -174.37     -0.11     -0.01   ...                                                                                                                                                                                 \n",
      "2    435    -68.27   -174.36     -0.11     -0.00   ...                                                                                                                                                                                 \n",
      "3    564    -68.28   -174.36     -0.11     -0.00   ...                                                                                                                                                                                 \n",
      "4    867    -68.28   -174.36     -0.11     -0.00   ...                                                                                                                                                                                 \n",
      "..                                                 ...                                                                                                                                                                                 \n",
      "995  0      0.00      0.00      0.00      0.00     ...                                                                                                                                                                                 \n",
      "996  0      0.00      0.00      0.00      0.00     ...                                                                                                                                                                                 \n",
      "997  0      0.00      0.00      0.00      0.00     ...                                                                                                                                                                                 \n",
      "998  0      0.00      0.00      0.00      0.00     ...                                                                                                                                                                                 \n",
      "999  0      0.00      0.00      0.00      0.00     ...                                                                                                                                                                                 \n",
      "\n",
      "[1000 rows x 1 columns]\n"
     ]
    },
    {
     "name": "stderr",
     "output_type": "stream",
     "text": [
      "/tmp/ipykernel_11043/2721285861.py:3: ParserWarning: Falling back to the 'python' engine because the 'c' engine does not support regex separators (separators > 1 char and different from '\\s+' are interpreted as regex); you can avoid this warning by specifying engine='python'.\n",
      "  df = pd.read_csv(filename,sep='S+',skiprows=3)\n"
     ]
    }
   ],
   "source": [
    "clump1 = read_clumpdata(1)\n",
    "print(clump1)"
   ]
  }
 ],
 "metadata": {
  "kernelspec": {
   "display_name": "env310",
   "language": "python",
   "name": "python3"
  },
  "language_info": {
   "codemirror_mode": {
    "name": "ipython",
    "version": 3
   },
   "file_extension": ".py",
   "mimetype": "text/x-python",
   "name": "python",
   "nbconvert_exporter": "python",
   "pygments_lexer": "ipython3",
   "version": "3.10.12"
  }
 },
 "nbformat": 4,
 "nbformat_minor": 2
}
